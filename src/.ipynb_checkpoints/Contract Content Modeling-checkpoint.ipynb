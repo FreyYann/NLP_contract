{
 "cells": [
  {
   "cell_type": "code",
   "execution_count": 1,
   "metadata": {
    "ExecuteTime": {
     "end_time": "2019-08-18T21:58:42.743054Z",
     "start_time": "2019-08-18T21:58:40.625227Z"
    }
   },
   "outputs": [],
   "source": [
    "from docx import Document\n",
    "import pandas as pd\n",
    "import numpy as np\n",
    "import os\n",
    "import re\n",
    "import matplotlib.pyplot as plt\n"
   ]
  },
  {
   "cell_type": "markdown",
   "metadata": {},
   "source": [
    "## Parsing data from Doc"
   ]
  },
  {
   "cell_type": "code",
   "execution_count": 2,
   "metadata": {
    "ExecuteTime": {
     "end_time": "2019-08-18T21:58:43.358642Z",
     "start_time": "2019-08-18T21:58:43.351776Z"
    }
   },
   "outputs": [],
   "source": [
    "rules={1:'termination|terminate',\n",
    "       2:'payment|pay|bill|billing',\n",
    "       3:'solicitation|solicit',\n",
    "       4:'insurance',\n",
    "       5:'remedy'\n",
    "      }"
   ]
  },
  {
   "cell_type": "code",
   "execution_count": 3,
   "metadata": {
    "ExecuteTime": {
     "end_time": "2019-08-18T21:58:44.096432Z",
     "start_time": "2019-08-18T21:58:44.087758Z"
    }
   },
   "outputs": [],
   "source": [
    "def doc_tolist(doc,pdf_path,rules):\n",
    "    df_list=[]\n",
    "    for i,d in enumerate(doc):\n",
    "        for r_idx in range(1,6):\n",
    "            res=re.search(rules[r_idx],d.lower())\n",
    "            if res and len(d)>30:\n",
    "                df_list.append([i,d,pdf_path,rules[r_idx]])\n",
    "    return df_list\n",
    "\n",
    "def get_doc_list(dl,path):\n",
    "#     print(path) \n",
    "    document=None\n",
    "    document = Document(path)\n",
    "    doc=[x.text for x in document.paragraphs if not x.text.isspace() and len(x.text)>0]\n",
    "    rules={1:'termination|terminate',\n",
    "       2:'payment|pay|bill|billing',\n",
    "       3:'solicitation|solicit',\n",
    "       4:'insurance',\n",
    "       5:'remedy'\n",
    "      }\n",
    "    dl+=doc_tolist(doc,path,rules)\n",
    "    return dl"
   ]
  },
  {
   "cell_type": "code",
   "execution_count": 4,
   "metadata": {
    "ExecuteTime": {
     "end_time": "2019-08-18T21:58:49.625978Z",
     "start_time": "2019-08-18T21:58:45.008440Z"
    }
   },
   "outputs": [],
   "source": [
    "dl=[]\n",
    "root_path='../data/contract/docs'\n",
    "for d_name in os.listdir(root_path):\n",
    "    if d_name!='.DS_Store':\n",
    "        temp_path=os.path.join(root_path,d_name)\n",
    "        dl=get_doc_list(dl,temp_path)\n",
    "df=pd.DataFrame(dl,columns=['index','content','doc','label'])"
   ]
  },
  {
   "cell_type": "markdown",
   "metadata": {},
   "source": [
    "## Data processing"
   ]
  },
  {
   "cell_type": "code",
   "execution_count": 5,
   "metadata": {
    "ExecuteTime": {
     "end_time": "2019-08-18T21:46:53.101618Z",
     "start_time": "2019-08-18T21:46:53.088298Z"
    }
   },
   "outputs": [
    {
     "data": {
      "text/plain": [
       "{'insurance',\n",
       " 'payment|pay|bill|billing',\n",
       " 'remedy',\n",
       " 'solicitation|solicit',\n",
       " 'termination|terminate'}"
      ]
     },
     "execution_count": 5,
     "metadata": {},
     "output_type": "execute_result"
    }
   ],
   "source": [
    "set(df.label)"
   ]
  },
  {
   "cell_type": "code",
   "execution_count": 6,
   "metadata": {
    "ExecuteTime": {
     "end_time": "2019-08-18T21:46:53.223368Z",
     "start_time": "2019-08-18T21:46:53.186349Z"
    }
   },
   "outputs": [],
   "source": [
    "plain_text_insurance=' '.join(df[df.label=='insurance'].content)\n",
    "plain_text_pay=' '.join(df[df.label=='payment|pay|bill|billing'].content)\n",
    "plain_text_remedy=' '.join(df[df.label=='remedy'].content)\n",
    "plain_text_solicitation=' '.join(df[df.label=='solicitation|solicit'].content)\n",
    "plain_text_termination=' '.join(df[df.label=='termination|terminate'].content)"
   ]
  },
  {
   "cell_type": "code",
   "execution_count": null,
   "metadata": {},
   "outputs": [],
   "source": [
    "plain_text=[plain_text_insurance,plain_text_pay,\\\n",
    "            plain_text_remedy,plain_text_solicitation,plain_text_termination]"
   ]
  },
  {
   "cell_type": "markdown",
   "metadata": {},
   "source": [
    "### data pipeline"
   ]
  },
  {
   "cell_type": "code",
   "execution_count": 205,
   "metadata": {
    "ExecuteTime": {
     "end_time": "2019-08-18T20:38:21.593913Z",
     "start_time": "2019-08-18T20:38:21.562729Z"
    }
   },
   "outputs": [],
   "source": [
    "plain_text=[replain_text=[re.sub(\"[0-9]+|[,\\.\\-%#\\\\“\\”'\\/\\$\\)\\(]|\\t\",'',x.lower()) \\\n",
    "                          for x in plain_text].sub(\"[0-9]+|[,\\.\\-%#\\\\“\\”'\\/\\$\\)\\(]|\\t\",'',x.lower()) for x in plain_text]"
   ]
  },
  {
   "cell_type": "markdown",
   "metadata": {},
   "source": [
    "## Model selection"
   ]
  },
  {
   "cell_type": "code",
   "execution_count": 5,
   "metadata": {
    "ExecuteTime": {
     "end_time": "2019-08-18T21:58:59.710719Z",
     "start_time": "2019-08-18T21:58:58.157035Z"
    }
   },
   "outputs": [],
   "source": [
    "from sklearn.feature_extraction.text import TfidfVectorizer\n",
    "from sklearn.decomposition import NMF\n",
    "from nltk.stem.snowball import SnowballStemmer\n",
    "from nltk import WordNetLemmatizer, pos_tag, word_tokenize\n",
    "from nltk.corpus import wordnet\n",
    "from nltk.stem.porter import *\n",
    "from nltk.stem import *"
   ]
  },
  {
   "cell_type": "code",
   "execution_count": 173,
   "metadata": {
    "ExecuteTime": {
     "end_time": "2019-08-18T19:05:12.154460Z",
     "start_time": "2019-08-18T19:05:12.023991Z"
    }
   },
   "outputs": [],
   "source": [
    "vectorizer = TfidfVectorizer(max_df=0.2,stop_words='english')\n",
    "vectors = vectorizer.fit_transform(plain_text)\n",
    "feature_names = vectorizer.get_feature_names()\n",
    "dense = vectors.todense()\n",
    "denselist = dense.tolist()\n",
    "df_content = pd.DataFrame(denselist, columns=feature_names)"
   ]
  },
  {
   "cell_type": "code",
   "execution_count": 174,
   "metadata": {
    "ExecuteTime": {
     "end_time": "2019-08-18T19:05:12.702320Z",
     "start_time": "2019-08-18T19:05:12.697504Z"
    }
   },
   "outputs": [
    {
     "data": {
      "text/plain": [
       "(5, 1148)"
      ]
     },
     "execution_count": 174,
     "metadata": {},
     "output_type": "execute_result"
    }
   ],
   "source": [
    "df_content.shape"
   ]
  },
  {
   "cell_type": "code",
   "execution_count": 175,
   "metadata": {
    "ExecuteTime": {
     "end_time": "2019-08-18T19:05:20.126745Z",
     "start_time": "2019-08-18T19:05:20.119868Z"
    }
   },
   "outputs": [],
   "source": [
    "stemmer = SnowballStemmer('english', ignore_stopwords=False)\n",
    "\n",
    "class StemmedTfidfVectorizer(TfidfVectorizer):\n",
    "    \n",
    "    def __init__(self, stemmer, *args, **kwargs):\n",
    "        super(StemmedTfidfVectorizer, self).__init__(*args, **kwargs)\n",
    "        self.stemmer = stemmer\n",
    "        \n",
    "    def build_analyzer(self):\n",
    "        analyzer = super(StemmedTfidfVectorizer, self).build_analyzer()\n",
    "        return lambda doc: (self.stemmer.stem(word) for word in analyzer(doc.replace('\\n', ' ')))"
   ]
  },
  {
   "cell_type": "code",
   "execution_count": 182,
   "metadata": {
    "ExecuteTime": {
     "end_time": "2019-08-18T19:11:33.223429Z",
     "start_time": "2019-08-18T19:11:32.538479Z"
    }
   },
   "outputs": [],
   "source": [
    "vectorizer_stem_u = StemmedTfidfVectorizer(stop_words='english',stemmer=stemmer, sublinear_tf=True)\n",
    "vectors= vectorizer_stem_u.fit_transform(plain_text)\n",
    "feature_names = vectorizer_stem_u.get_feature_names()\n",
    "dense = vectors.todense()\n",
    "denselist = dense.tolist()\n",
    "df_content_stem = pd.DataFrame(denselist, columns=feature_names)"
   ]
  },
  {
   "cell_type": "code",
   "execution_count": 183,
   "metadata": {
    "ExecuteTime": {
     "end_time": "2019-08-18T19:11:37.987368Z",
     "start_time": "2019-08-18T19:11:37.960119Z"
    }
   },
   "outputs": [
    {
     "data": {
      "text/html": [
       "<div>\n",
       "<style scoped>\n",
       "    .dataframe tbody tr th:only-of-type {\n",
       "        vertical-align: middle;\n",
       "    }\n",
       "\n",
       "    .dataframe tbody tr th {\n",
       "        vertical-align: top;\n",
       "    }\n",
       "\n",
       "    .dataframe thead th {\n",
       "        text-align: right;\n",
       "    }\n",
       "</style>\n",
       "<table border=\"1\" class=\"dataframe\">\n",
       "  <thead>\n",
       "    <tr style=\"text-align: right;\">\n",
       "      <th></th>\n",
       "      <th>abandon</th>\n",
       "      <th>abid</th>\n",
       "      <th>abil</th>\n",
       "      <th>abl</th>\n",
       "      <th>abovement</th>\n",
       "      <th>absenc</th>\n",
       "      <th>absent</th>\n",
       "      <th>absente</th>\n",
       "      <th>absolut</th>\n",
       "      <th>abstain</th>\n",
       "      <th>...</th>\n",
       "      <th>workplac</th>\n",
       "      <th>workweek</th>\n",
       "      <th>world</th>\n",
       "      <th>write</th>\n",
       "      <th>written</th>\n",
       "      <th>xi</th>\n",
       "      <th>xvi</th>\n",
       "      <th>xxxxx</th>\n",
       "      <th>year</th>\n",
       "      <th>york</th>\n",
       "    </tr>\n",
       "  </thead>\n",
       "  <tbody>\n",
       "    <tr>\n",
       "      <th>0</th>\n",
       "      <td>0.000000</td>\n",
       "      <td>0.000000</td>\n",
       "      <td>0.000000</td>\n",
       "      <td>0.000000</td>\n",
       "      <td>0.000000</td>\n",
       "      <td>0.032655</td>\n",
       "      <td>0.000000</td>\n",
       "      <td>0.000000</td>\n",
       "      <td>0.000000</td>\n",
       "      <td>0.000000</td>\n",
       "      <td>...</td>\n",
       "      <td>0.000000</td>\n",
       "      <td>0.000000</td>\n",
       "      <td>0.000000</td>\n",
       "      <td>0.034049</td>\n",
       "      <td>0.038310</td>\n",
       "      <td>0.000000</td>\n",
       "      <td>0.000000</td>\n",
       "      <td>0.000000</td>\n",
       "      <td>0.027471</td>\n",
       "      <td>0.000000</td>\n",
       "    </tr>\n",
       "    <tr>\n",
       "      <th>1</th>\n",
       "      <td>0.021612</td>\n",
       "      <td>0.021612</td>\n",
       "      <td>0.041284</td>\n",
       "      <td>0.033202</td>\n",
       "      <td>0.015821</td>\n",
       "      <td>0.000000</td>\n",
       "      <td>0.010596</td>\n",
       "      <td>0.000000</td>\n",
       "      <td>0.015821</td>\n",
       "      <td>0.015821</td>\n",
       "      <td>...</td>\n",
       "      <td>0.012764</td>\n",
       "      <td>0.015821</td>\n",
       "      <td>0.015821</td>\n",
       "      <td>0.036465</td>\n",
       "      <td>0.033898</td>\n",
       "      <td>0.000000</td>\n",
       "      <td>0.000000</td>\n",
       "      <td>0.015821</td>\n",
       "      <td>0.029437</td>\n",
       "      <td>0.000000</td>\n",
       "    </tr>\n",
       "    <tr>\n",
       "      <th>2</th>\n",
       "      <td>0.000000</td>\n",
       "      <td>0.000000</td>\n",
       "      <td>0.000000</td>\n",
       "      <td>0.000000</td>\n",
       "      <td>0.000000</td>\n",
       "      <td>0.000000</td>\n",
       "      <td>0.000000</td>\n",
       "      <td>0.000000</td>\n",
       "      <td>0.000000</td>\n",
       "      <td>0.000000</td>\n",
       "      <td>...</td>\n",
       "      <td>0.000000</td>\n",
       "      <td>0.000000</td>\n",
       "      <td>0.000000</td>\n",
       "      <td>0.000000</td>\n",
       "      <td>0.030985</td>\n",
       "      <td>0.000000</td>\n",
       "      <td>0.000000</td>\n",
       "      <td>0.000000</td>\n",
       "      <td>0.000000</td>\n",
       "      <td>0.000000</td>\n",
       "    </tr>\n",
       "    <tr>\n",
       "      <th>3</th>\n",
       "      <td>0.000000</td>\n",
       "      <td>0.000000</td>\n",
       "      <td>0.000000</td>\n",
       "      <td>0.000000</td>\n",
       "      <td>0.000000</td>\n",
       "      <td>0.041217</td>\n",
       "      <td>0.024344</td>\n",
       "      <td>0.000000</td>\n",
       "      <td>0.000000</td>\n",
       "      <td>0.000000</td>\n",
       "      <td>...</td>\n",
       "      <td>0.000000</td>\n",
       "      <td>0.000000</td>\n",
       "      <td>0.000000</td>\n",
       "      <td>0.048868</td>\n",
       "      <td>0.066394</td>\n",
       "      <td>0.000000</td>\n",
       "      <td>0.000000</td>\n",
       "      <td>0.000000</td>\n",
       "      <td>0.082826</td>\n",
       "      <td>0.000000</td>\n",
       "    </tr>\n",
       "    <tr>\n",
       "      <th>4</th>\n",
       "      <td>0.015558</td>\n",
       "      <td>0.015558</td>\n",
       "      <td>0.000000</td>\n",
       "      <td>0.000000</td>\n",
       "      <td>0.000000</td>\n",
       "      <td>0.021867</td>\n",
       "      <td>0.012915</td>\n",
       "      <td>0.019284</td>\n",
       "      <td>0.000000</td>\n",
       "      <td>0.000000</td>\n",
       "      <td>...</td>\n",
       "      <td>0.037127</td>\n",
       "      <td>0.000000</td>\n",
       "      <td>0.000000</td>\n",
       "      <td>0.042266</td>\n",
       "      <td>0.045319</td>\n",
       "      <td>0.019284</td>\n",
       "      <td>0.019284</td>\n",
       "      <td>0.000000</td>\n",
       "      <td>0.048173</td>\n",
       "      <td>0.019284</td>\n",
       "    </tr>\n",
       "  </tbody>\n",
       "</table>\n",
       "<p>5 rows × 1643 columns</p>\n",
       "</div>"
      ],
      "text/plain": [
       "    abandon      abid      abil       abl  abovement    absenc    absent  \\\n",
       "0  0.000000  0.000000  0.000000  0.000000   0.000000  0.032655  0.000000   \n",
       "1  0.021612  0.021612  0.041284  0.033202   0.015821  0.000000  0.010596   \n",
       "2  0.000000  0.000000  0.000000  0.000000   0.000000  0.000000  0.000000   \n",
       "3  0.000000  0.000000  0.000000  0.000000   0.000000  0.041217  0.024344   \n",
       "4  0.015558  0.015558  0.000000  0.000000   0.000000  0.021867  0.012915   \n",
       "\n",
       "    absente   absolut   abstain    ...     workplac  workweek     world  \\\n",
       "0  0.000000  0.000000  0.000000    ...     0.000000  0.000000  0.000000   \n",
       "1  0.000000  0.015821  0.015821    ...     0.012764  0.015821  0.015821   \n",
       "2  0.000000  0.000000  0.000000    ...     0.000000  0.000000  0.000000   \n",
       "3  0.000000  0.000000  0.000000    ...     0.000000  0.000000  0.000000   \n",
       "4  0.019284  0.000000  0.000000    ...     0.037127  0.000000  0.000000   \n",
       "\n",
       "      write   written        xi       xvi     xxxxx      year      york  \n",
       "0  0.034049  0.038310  0.000000  0.000000  0.000000  0.027471  0.000000  \n",
       "1  0.036465  0.033898  0.000000  0.000000  0.015821  0.029437  0.000000  \n",
       "2  0.000000  0.030985  0.000000  0.000000  0.000000  0.000000  0.000000  \n",
       "3  0.048868  0.066394  0.000000  0.000000  0.000000  0.082826  0.000000  \n",
       "4  0.042266  0.045319  0.019284  0.019284  0.000000  0.048173  0.019284  \n",
       "\n",
       "[5 rows x 1643 columns]"
      ]
     },
     "execution_count": 183,
     "metadata": {},
     "output_type": "execute_result"
    }
   ],
   "source": [
    "df_content_stem"
   ]
  },
  {
   "cell_type": "markdown",
   "metadata": {},
   "source": [
    "### Model\n",
    "loss=croos_entropy(logist(w*v/len(v)),y)"
   ]
  },
  {
   "cell_type": "code",
   "execution_count": 6,
   "metadata": {
    "ExecuteTime": {
     "end_time": "2019-08-18T21:59:05.206617Z",
     "start_time": "2019-08-18T21:59:04.126649Z"
    }
   },
   "outputs": [],
   "source": [
    "from gensim import corpora,similarities,models  \n",
    "# import jieba  "
   ]
  },
  {
   "cell_type": "code",
   "execution_count": 7,
   "metadata": {
    "ExecuteTime": {
     "end_time": "2019-08-18T21:59:08.763453Z",
     "start_time": "2019-08-18T21:59:07.171737Z"
    }
   },
   "outputs": [],
   "source": [
    "stemmer = PorterStemmer()\n",
    "corpora_documents = []  \n",
    "plain_text_list=[x.split() for x in df.content]\n",
    "for p in plain_text_list:\n",
    "    corpora_documents.append([ stemmer.stem(w) for w in p])"
   ]
  },
  {
   "cell_type": "code",
   "execution_count": 9,
   "metadata": {
    "ExecuteTime": {
     "end_time": "2019-08-18T21:59:36.970765Z",
     "start_time": "2019-08-18T21:59:36.150603Z"
    }
   },
   "outputs": [],
   "source": [
    "dictionary = corpora.Dictionary(corpora_documents)  \n",
    "corpus = [dictionary.doc2bow(text) for text in corpora_documents]  \n",
    "tfidf_model = models.TfidfModel(corpus) \n",
    "corpus_tfidf = tfidf_model[corpus]  \n",
    "similarity = similarities.Similarity('Similarity-tfidf-index', \\\n",
    "                                     corpus_tfidf, num_features=700)  "
   ]
  },
  {
   "cell_type": "code",
   "execution_count": 10,
   "metadata": {
    "ExecuteTime": {
     "end_time": "2019-08-18T21:59:38.160194Z",
     "start_time": "2019-08-18T21:59:38.154453Z"
    }
   },
   "outputs": [],
   "source": [
    "def compare_similarity(text):\n",
    "    test_data_1 = text\n",
    "    test_data_1=re.sub(\"[0-9]+|[,\\.\\-%#\\\\“\\”'\\/\\$]|\\)|\\(|\\t|$\",' ',\\\n",
    "                       test_data_1.lower()).split()\n",
    "    test_data_1=[stemmer.stem(x) for x in test_data_1]\n",
    "    test_corpus_1 = dictionary.doc2bow(test_data_1)\n",
    "    similarity.num_best = 5  \n",
    "    test_corpus_tfidf_1=tfidf_model[test_corpus_1]\n",
    "    return similarity[test_corpus_tfidf_1]"
   ]
  },
  {
   "cell_type": "code",
   "execution_count": 11,
   "metadata": {
    "ExecuteTime": {
     "end_time": "2019-08-18T22:00:04.071508Z",
     "start_time": "2019-08-18T22:00:04.066517Z"
    }
   },
   "outputs": [],
   "source": [
    "label_dict={0:'insurance',\n",
    "           1:'payment',\n",
    "           2:'remedy',\n",
    "           3:'non-solicitation',\n",
    "           4:'termination'}"
   ]
  },
  {
   "cell_type": "code",
   "execution_count": null,
   "metadata": {
    "ExecuteTime": {
     "start_time": "2019-08-18T22:00:06.698Z"
    }
   },
   "outputs": [],
   "source": [
    "for it, row in df.iterrows():\n",
    "#     print(row.content,row.label)\n",
    "    print(compare_similarity(row.content)[0],row.label)\n",
    "    break"
   ]
  },
  {
   "cell_type": "code",
   "execution_count": 10,
   "metadata": {
    "ExecuteTime": {
     "end_time": "2019-08-18T21:50:33.083278Z",
     "start_time": "2019-08-18T21:50:33.080057Z"
    }
   },
   "outputs": [],
   "source": [
    "a='This agreement may be terminated immediately by TSI for poor performance, poor conduct, poor work habits or inability to work as a team member on the part of “Subcontractor” employees/consultants, as determined solely by TSI or TSI’s end client. In addition, this agreement may be terminated by TSI upon 5 days written notification by TSI or TSI’s end client without specific reason. Notwithstanding the above, it is TSI’s intent and desire for this agreement to run full term and be extended. termination|terminate'"
   ]
  },
  {
   "cell_type": "code",
   "execution_count": 11,
   "metadata": {
    "ExecuteTime": {
     "end_time": "2019-08-18T21:50:33.883772Z",
     "start_time": "2019-08-18T21:50:33.879699Z"
    }
   },
   "outputs": [],
   "source": [
    "a=a.lower()"
   ]
  },
  {
   "cell_type": "code",
   "execution_count": null,
   "metadata": {
    "ExecuteTime": {
     "start_time": "2019-08-18T21:52:31.974Z"
    }
   },
   "outputs": [],
   "source": [
    "test_data_1 = a\n",
    "test_data_1=re.sub(\"[0-9]+|[,\\.\\-%#\\\\“\\”'\\/\\$]|\\)|\\(|\\t|$\",' ',\\\n",
    "                       test_data_1.lower()).split()\n",
    "test_data_1=[stemmer.stem(x) for x in test_data_1]\n",
    "test_corpus_1 = dictionary.doc2bow(test_data_1)\n",
    "test_corpus_tfidf_1=tfidf_model[test_corpus_1]\n",
    "similarity[test_corpus_tfidf_1]"
   ]
  },
  {
   "cell_type": "code",
   "execution_count": 20,
   "metadata": {
    "ExecuteTime": {
     "end_time": "2019-08-18T21:52:14.440005Z",
     "start_time": "2019-08-18T21:52:14.432122Z"
    },
    "collapsed": true
   },
   "outputs": [
    {
     "data": {
      "text/plain": [
       "[(2, 0.01987096278224971),\n",
       " (5, 0.07971343185561044),\n",
       " (6, 0.013474138621096083),\n",
       " (7, 0.05693109334891422),\n",
       " (8, 0.05961288834674913),\n",
       " (9, 0.07011514245336456),\n",
       " (10, 0.044187304662291184),\n",
       " (13, 0.05653219836959198),\n",
       " (14, 0.11095470241044654),\n",
       " (15, 0.08910377361071227),\n",
       " (17, 0.16183973859487163),\n",
       " (19, 0.02627645192172076),\n",
       " (20, 0.09019027741823409),\n",
       " (21, 0.15632767633908629),\n",
       " (22, 0.05622090070065206),\n",
       " (23, 0.17477623721177266),\n",
       " (24, 0.13194000541124246),\n",
       " (25, 0.027187750230281686),\n",
       " (26, 0.025476514469645443),\n",
       " (27, 0.06968918960034994),\n",
       " (28, 0.13787911546639992),\n",
       " (29, 0.11943055459371357),\n",
       " (30, 0.09784712198812737),\n",
       " (31, 0.004606680835567912),\n",
       " (32, 0.03484459480017497),\n",
       " (33, 0.029237016189472956),\n",
       " (34, 0.09019027741823409),\n",
       " (36, 0.524328711635318),\n",
       " (38, 0.17477623721177266),\n",
       " (39, 0.07593711292599305),\n",
       " (40, 0.09640808789724943),\n",
       " (41, 0.17477623721177266),\n",
       " (42, 0.04402274755206306),\n",
       " (43, 0.051541226024235366),\n",
       " (44, 0.0097501523836012),\n",
       " (45, 0.04713536811922625),\n",
       " (46, 0.012994141729752107),\n",
       " (47, 0.4345553531636818),\n",
       " (48, 0.41363734639919975),\n",
       " (49, 0.04848679730355643),\n",
       " (50, 0.04919033555021176),\n",
       " (51, 0.0780799823612406),\n",
       " (52, 0.05591320192932867),\n",
       " (87, 0.015644322550428736),\n",
       " (102, 0.04177219793717334),\n",
       " (141, 0.06580260649039026),\n",
       " (162, 0.05329315567286134),\n",
       " (179, 0.03349325649632042),\n",
       " (375, 0.06580260649039026),\n",
       " (430, 0.05591320192932867),\n",
       " (1111, 0.10453601816827089),\n",
       " (1400, 0.10098199372102717),\n",
       " (1410, 0.12298457904095725)]"
      ]
     },
     "execution_count": 20,
     "metadata": {},
     "output_type": "execute_result"
    }
   ],
   "source": [
    "test_corpus_tfidf_1"
   ]
  },
  {
   "cell_type": "code",
   "execution_count": null,
   "metadata": {},
   "outputs": [],
   "source": []
  }
 ],
 "metadata": {
  "kernelspec": {
   "display_name": "py3",
   "language": "python",
   "name": "py3"
  },
  "language_info": {
   "codemirror_mode": {
    "name": "ipython",
    "version": 3
   },
   "file_extension": ".py",
   "mimetype": "text/x-python",
   "name": "python",
   "nbconvert_exporter": "python",
   "pygments_lexer": "ipython3",
   "version": "3.7.3"
  },
  "latex_envs": {
   "LaTeX_envs_menu_present": true,
   "autoclose": true,
   "autocomplete": false,
   "bibliofile": "biblio.bib",
   "cite_by": "apalike",
   "current_citInitial": 1,
   "eqLabelWithNumbers": true,
   "eqNumInitial": 1,
   "hotkeys": {
    "equation": "Ctrl-E",
    "itemize": "Ctrl-I"
   },
   "labels_anchors": false,
   "latex_user_defs": false,
   "report_style_numbering": false,
   "user_envs_cfg": false
  },
  "toc": {
   "nav_menu": {},
   "number_sections": true,
   "sideBar": true,
   "skip_h1_title": false,
   "title_cell": "Table of Contents",
   "title_sidebar": "Contents",
   "toc_cell": false,
   "toc_position": {},
   "toc_section_display": true,
   "toc_window_display": false
  },
  "varInspector": {
   "cols": {
    "lenName": 16,
    "lenType": 16,
    "lenVar": 40
   },
   "kernels_config": {
    "python": {
     "delete_cmd_postfix": "",
     "delete_cmd_prefix": "del ",
     "library": "var_list.py",
     "varRefreshCmd": "print(var_dic_list())"
    },
    "r": {
     "delete_cmd_postfix": ") ",
     "delete_cmd_prefix": "rm(",
     "library": "var_list.r",
     "varRefreshCmd": "cat(var_dic_list()) "
    }
   },
   "types_to_exclude": [
    "module",
    "function",
    "builtin_function_or_method",
    "instance",
    "_Feature"
   ],
   "window_display": false
  }
 },
 "nbformat": 4,
 "nbformat_minor": 2
}
