{
 "cells": [
  {
   "cell_type": "code",
   "execution_count": 1,
   "metadata": {},
   "outputs": [],
   "source": [
    "import numpy as np\n",
    "import pandas as pd\n",
    "import torch\n",
    "import re\n",
    "from torch.autograd import Variable\n",
    "from tika import parser\n",
    "import docx"
   ]
  },
  {
   "cell_type": "code",
   "execution_count": null,
   "metadata": {},
   "outputs": [],
   "source": [
    "def getText(filename):\n",
    "    doc = docx.Document(filename)\n",
    "    fullText = []\n",
    "    for para in doc.paragraphs:\n",
    "        fullText.append(para.text)\n",
    "    return '\\n'.join(fullText)\n",
    "\n",
    "raw = parser.from_file(pdf_path)"
   ]
  },
  {
   "cell_type": "code",
   "execution_count": null,
   "metadata": {},
   "outputs": [],
   "source": [
    "rule_dict={}\n",
    "def extract_data(paragraphes):\n",
    "    train_list=[]#(paragrah, label)\n",
    "    for p in paragraphes:\n",
    "        for d in parser(p):\n",
    "            train_list+=parser(d)\n",
    "            \n",
    "    return train_list\n",
    "\n",
    "def parser(paragraph):\n",
    "    result=[]\n",
    "    label=find_label(paragraph)\n",
    "    if label:\n",
    "        for l in label:\n",
    "            clean_paragraph=apply_rule(paragraph,l)\n",
    "            result.append((l,clean_paragraph))\n",
    "            \n",
    "def clean_data(rule,paragraph):\n",
    "    return paragraph\n",
    "\n",
    "def find_label(paragraph):\n",
    "    return label\n",
    "\n",
    "def apply_rule(paragraph,label):\n",
    "    rule=rule_dict[label]\n",
    "    return clean_data(rule,paragraph)\n"
   ]
  }
 ],
 "metadata": {
  "kernelspec": {
   "display_name": "py35",
   "language": "python",
   "name": "py35"
  },
  "language_info": {
   "codemirror_mode": {
    "name": "ipython",
    "version": 3
   },
   "file_extension": ".py",
   "mimetype": "text/x-python",
   "name": "python",
   "nbconvert_exporter": "python",
   "pygments_lexer": "ipython3",
   "version": "3.5.6"
  }
 },
 "nbformat": 4,
 "nbformat_minor": 2
}
